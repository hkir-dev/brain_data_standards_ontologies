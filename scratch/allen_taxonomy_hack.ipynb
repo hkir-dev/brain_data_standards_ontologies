{
 "cells": [
  {
   "cell_type": "code",
   "execution_count": 76,
   "metadata": {},
   "outputs": [
    {
     "data": {
      "text/plain": [
       "dict_keys(['node_attributes', 'children'])"
      ]
     },
     "execution_count": 76,
     "metadata": {},
     "output_type": "execute_result"
    }
   ],
   "source": [
    "import json\n",
    "f = open('dend.json', 'r')\n",
    "j = json.loads(f.read())\n",
    "j.keys()\n",
    "\n"
   ]
  },
  {
   "cell_type": "code",
   "execution_count": 77,
   "metadata": {},
   "outputs": [
    {
     "data": {
      "text/plain": [
       "2"
      ]
     },
     "execution_count": 77,
     "metadata": {},
     "output_type": "execute_result"
    }
   ],
   "source": [
    "# Bifurcation of tree at root\n",
    "\n",
    "len(j['children'])"
   ]
  },
  {
   "cell_type": "code",
   "execution_count": 3,
   "metadata": {},
   "outputs": [
    {
     "data": {
      "text/plain": [
       "[{'members': 75,\n",
       "  'midpoint': 57.5288,\n",
       "  'height': 0.9146,\n",
       "  'label': '',\n",
       "  'cell_set_accession': 'CS201908210_76',\n",
       "  'original_label': 'n1',\n",
       "  'cell_set_label': 'All cells',\n",
       "  'cell_set_preferred_alias': '',\n",
       "  'cell_set_aligned_alias': '',\n",
       "  'cell_set_additional_aliases': '',\n",
       "  'cell_set_structure': 'neocortex',\n",
       "  'cell_set_alias_assignee': 'Trygve Bakken||',\n",
       "  'cell_set_alias_citation': '10.1038/s41586-019-1506-7||',\n",
       "  'cell_set_ontology_tag': 'UBERON:0001950',\n",
       "  'taxonomy_id': 'CCN201908210',\n",
       "  '_row': 'n1'}]"
      ]
     },
     "execution_count": 3,
     "metadata": {},
     "output_type": "execute_result"
    }
   ],
   "source": [
    "# Inspect  root node:\n",
    "\n",
    "j['node_attributes']"
   ]
  },
  {
   "cell_type": "code",
   "execution_count": 73,
   "metadata": {},
   "outputs": [],
   "source": [
    "import warnings\n",
    "\n",
    "out = {}\n",
    "\n",
    "def tree_recurse(tree, out, parent_node_id = ''):\n",
    "    \"\"\"Convert Allen Taxonomy JSON to a list of nodes and edges, where nodes are\n",
    "    Copies of nodes in Allen JSON & edges are duples - (subject(child), object(parent))\n",
    "    identified by 'cell_set_accession'.\n",
    "    \n",
    "    Args:\n",
    "        - Tree: Allen taxonomy in JSON, or some subtree of it\n",
    "        - Output structure to populate (starting point must be an empty dict)\n",
    "        - parent_node_id: 'cell_set_accession' of parent.  Default (no parent) = root.\n",
    "        \n",
    "    \"\"\"\n",
    "    if not out:\n",
    "        out['nodes']= []\n",
    "        out['edges'] = set()\n",
    "    if 'node_attributes' in tree.keys():\n",
    "        if len(tree['node_attributes']) > 1:\n",
    "            warnings.warn(\"Don't know how to deal with multiple nodes per recurse\")\n",
    "        ID = tree['node_attributes'][0]['cell_set_accession']\n",
    "            \n",
    "        out['nodes'].append(tree['node_attributes'][0])\n",
    "        if parent_node_id:\n",
    "            out['edges'].add((ID, parent_node_id))\n",
    "        if 'children' in tree.keys():\n",
    "            for c in tree['children']:\n",
    "                tree_recurse(c, out, parent_node_id = ID)\n",
    "        else:\n",
    "            warnings.warn(\"non leaf node %s has no children\" % ID)\n",
    "    elif 'leaf_attributes' in tree.keys():\n",
    "        if len(tree['leaf_attributes']) > 1:\n",
    "            warnings.warn(\"Don't know how to deal with multiple nodes per recurse\")       \n",
    "        ID = tree['leaf_attributes'][0]['cell_set_accession']\n",
    "        tree['leaf_attributes'][0]['is_leaf'] = True\n",
    "        out['nodes'].append(tree['leaf_attributes'][0])\n",
    "        out['edges'].add((ID, parent_node_id))\n",
    "        if 'children' in tree.keys():\n",
    "            warnings.warn('leaf node %s has children!' % ID)\n",
    "    else:\n",
    "        warnings.warn(\"No recognized nodes\")\n",
    "        \n",
    "tree_recurse(j, out)"
   ]
  },
  {
   "cell_type": "code",
   "execution_count": 74,
   "metadata": {},
   "outputs": [
    {
     "data": {
      "text/plain": [
       "149"
      ]
     },
     "execution_count": 74,
     "metadata": {},
     "output_type": "execute_result"
    }
   ],
   "source": [
    "len(out['nodes'])"
   ]
  },
  {
   "cell_type": "code",
   "execution_count": 39,
   "metadata": {},
   "outputs": [
    {
     "name": "stdout",
     "output_type": "stream",
     "text": [
      "cell_set_accession, e.g. 'CS201908210_77' is a unique attribute\n",
      "original_label, e.g. 'n2' is a unique attribute\n",
      "cell_set_label, e.g. 'MTG 001-069' is a unique attribute\n",
      "_row, e.g. 'n2' is a unique attribute\n"
     ]
    }
   ],
   "source": [
    "## Check for unique attribute values\n",
    "\n",
    "def unique_attribute_test(nodes):\n",
    "    # Assuming root node has all keys\n",
    "    for attr in nodes[0].keys():\n",
    "        a = {n[attr] for n in out['nodes'] if attr in n.keys()}\n",
    "        if len(nodes) == len(a):\n",
    "            print(\"%s, e.g. '%s' is a unique attribute\" % (attr, nodes[1][attr]))\n",
    "            \n",
    "unique_attribute_test(out['nodes'])"
   ]
  },
  {
   "cell_type": "code",
   "execution_count": 87,
   "metadata": {},
   "outputs": [
    {
     "name": "stdout",
     "output_type": "stream",
     "text": [
      "('Inhibitory', 'Neuronal')\n",
      "('ADARB2 (CGE)', 'Inhibitory')\n",
      "('LAMP5/PAX6', 'ADARB2 (CGE)')\n",
      "('VIP', 'ADARB2 (CGE)')\n",
      "('LHX6 (MGE)', 'Inhibitory')\n",
      "('Inh L5-6 SST TH', 'SST')\n",
      "('Inh L5-6 LHX6 GLP1R', 'PVALB')\n",
      "('Inh L2-5 PVALB SCUBE3', 'LHX6 (MGE)')\n",
      "('Excitatory', 'Neuronal')\n",
      "('Exc L2-3 LINC00507 FREM3', 'L2/3')\n",
      "('L4', 'RORB')\n",
      "('Exc L3-4 RORB CARM1P1', 'L4')\n",
      "('Exc L5-6 THEMIS DCSTAMP', 'L6')\n",
      "('FEZF2', 'Excitatory')\n",
      "('Exc L4-6 FEZF2 IL26', 'FEZF2')\n",
      "('L6', 'FEZF2')\n",
      "('Exc L5-6 FEZF2 ABO', 'L6')\n",
      "('Micro L1-6 TYROBP', 'Non-neuronal')\n"
     ]
    }
   ],
   "source": [
    "lookup = { n['cell_set_accession']: n['cell_set_preferred_alias'] for n in out['nodes']}\n",
    "\n",
    "# Quick look at parents\n",
    "for k,v in lookup.items():\n",
    "    parent = [e[1] for e in out['edges'] if e[0] == k]\n",
    "    if parent and lookup[parent[0]] and v:\n",
    "        print((v, lookup[parent[0]]))\n",
    "    "
   ]
  },
  {
   "cell_type": "code",
   "execution_count": null,
   "metadata": {},
   "outputs": [],
   "source": [
    "# Lets go with cell_set_label as rdfs_label for now.  It may be worth inventing some APs for the others...\n",
    "\n",
    "# Alternative: \n",
    "   # Everything with a cell_set_preferred_alias gets the name \"$cell_set_preferred_alias - $taxonomy_id. \n",
    "   # We make also classes for these\n",
    "   # The rest we name \"$cell_set_label - $taxonomy_id\"\n",
    "   # other identifiers go in synonyms (at least for now)"
   ]
  },
  {
   "cell_type": "code",
   "execution_count": 56,
   "metadata": {},
   "outputs": [],
   "source": [
    "robot_template_seed = { 'ID': 'ID', \n",
    "                       'Label': 'LABEL',\n",
    "                       'PrefLabel': 'skos:prefLabel',\n",
    "                       'Entity Type': 'TYPE', \n",
    "                       'Property Assertions': 'I subcluster_of SPLIT=|',\n",
    "                       'Synonyms': 'A oio:has_exact_synonym',\n",
    "                      }\n",
    "\n"
   ]
  },
  {
   "cell_type": "code",
   "execution_count": 33,
   "metadata": {},
   "outputs": [
    {
     "data": {
      "text/html": [
       "<div>\n",
       "<style scoped>\n",
       "    .dataframe tbody tr th:only-of-type {\n",
       "        vertical-align: middle;\n",
       "    }\n",
       "\n",
       "    .dataframe tbody tr th {\n",
       "        vertical-align: top;\n",
       "    }\n",
       "\n",
       "    .dataframe thead th {\n",
       "        text-align: right;\n",
       "    }\n",
       "</style>\n",
       "<table border=\"1\" class=\"dataframe\">\n",
       "  <thead>\n",
       "    <tr style=\"text-align: right;\">\n",
       "      <th></th>\n",
       "      <th>ID</th>\n",
       "      <th>Label</th>\n",
       "      <th>Entity Type</th>\n",
       "      <th>Property Assertions</th>\n",
       "      <th>Synonyms</th>\n",
       "    </tr>\n",
       "  </thead>\n",
       "  <tbody>\n",
       "    <tr>\n",
       "      <th>0</th>\n",
       "      <td>ID</td>\n",
       "      <td>A rdfs:label</td>\n",
       "      <td>cluster</td>\n",
       "      <td>I subcluster_of</td>\n",
       "      <td>A oio:has_exact_synonym</td>\n",
       "    </tr>\n",
       "  </tbody>\n",
       "</table>\n",
       "</div>"
      ],
      "text/plain": [
       "   ID         Label Entity Type Property Assertions                 Synonyms\n",
       "0  ID  A rdfs:label     cluster     I subcluster_of  A oio:has_exact_synonym"
      ]
     },
     "execution_count": 33,
     "metadata": {},
     "output_type": "execute_result"
    }
   ],
   "source": [
    "import pandas as pd\n",
    "\n",
    "robot_template = pd.DataFrame.from_records([robot_template_seed])\n",
    "robot_template"
   ]
  },
  {
   "cell_type": "code",
   "execution_count": 67,
   "metadata": {},
   "outputs": [
    {
     "name": "stdout",
     "output_type": "stream",
     "text": [
      "                 ID                PrefLabel\n",
      "0                ID           skos:prefLabel\n",
      "1    CS201908210_76                         \n",
      "2    CS201908210_77                 Neuronal\n",
      "3    CS201908210_78               Inhibitory\n",
      "4    CS201908210_79             ADARB2 (CGE)\n",
      "5    CS201908210_80               LAMP5/PAX6\n",
      "6    CS201908210_81                         \n",
      "7     CS201908210_1      Inh L1-2 PAX6 CDH12\n",
      "8     CS201908210_2  Inh L1-2 PAX6 TNFAIP8L3\n",
      "9    CS201908210_82                         \n",
      "10    CS201908210_3        Inh L1 LAMP5 NMBR\n",
      "11   CS201908210_83                         \n",
      "12   CS201908210_84                         \n",
      "13    CS201908210_4      Inh L1-4 LAMP5 LCP2\n",
      "14    CS201908210_5       Inh L1-2 LAMP5 DBP\n",
      "15    CS201908210_6       Inh L2-6 LAMP5 CA1\n",
      "16   CS201908210_85                      VIP\n",
      "17   CS201908210_86                         \n",
      "18   CS201908210_87                         \n",
      "19   CS201908210_88                         \n",
      "20   CS201908210_89                         \n",
      "21    CS201908210_7        Inh L1 SST CHRNA4\n",
      "22    CS201908210_8     Inh L1-2 ADARB2 MC4R\n",
      "23    CS201908210_9       Inh L1-2 SST BAGE2\n",
      "24   CS201908210_90                         \n",
      "25   CS201908210_10        Inh L1-3 VIP SYT6\n",
      "26   CS201908210_91                         \n",
      "27   CS201908210_11     Inh L1-2 VIP TSPAN12\n",
      "28   CS201908210_12      Inh L1-4 VIP CHRNA6\n",
      "29   CS201908210_92                         \n",
      "30   CS201908210_13    Inh L1-3 VIP ADAMTSL1\n",
      "31   CS201908210_14        Inh L1-4 VIP PENK\n",
      "32   CS201908210_93                         \n",
      "33   CS201908210_94                         \n",
      "34   CS201908210_95                         \n",
      "35   CS201908210_96                         \n",
      "36   CS201908210_15        Inh L2-6 VIP QPCT\n",
      "37   CS201908210_16    Inh L3-6 VIP HS3ST3A1\n",
      "38   CS201908210_17      Inh L1-2 VIP PCDH20\n",
      "39   CS201908210_97                         \n",
      "40   CS201908210_18    Inh L2-5 VIP SERPINF1\n",
      "41   CS201908210_19         Inh L2-5 VIP TYR\n",
      "42   CS201908210_98                         \n",
      "43   CS201908210_99                         \n",
      "44  CS201908210_100                         \n",
      "45  CS201908210_101                         \n",
      "46   CS201908210_20       Inh L1-3 VIP CHRM2\n",
      "47   CS201908210_21       Inh L2-4 VIP CBLN1\n",
      "48   CS201908210_22     Inh L1-3 VIP CCDC184\n",
      "49   CS201908210_23         Inh L1-3 VIP GGH\n",
      "                 ID              PrefLabel\n",
      "51  CS201908210_103                       \n",
      "52   CS201908210_24       Inh L1-2 VIP LBH\n",
      "53   CS201908210_25     Inh L2-3 VIP CASC6\n",
      "54  CS201908210_104                       \n",
      "55   CS201908210_26    Inh L2-4 VIP SPAG17\n",
      "56   CS201908210_27     Inh L1-4 VIP OPRM1\n",
      "57  CS201908210_105             LHX6 (MGE)\n",
      "58  CS201908210_106                       \n",
      "59   CS201908210_28       Inh L3-6 SST NPY\n",
      "60  CS201908210_107                       \n",
      "61  CS201908210_108                    SST\n",
      "62  CS201908210_109                       \n",
      "63  CS201908210_110                       \n",
      "64   CS201908210_29      Inh L3-6 SST HPGD\n",
      "65  CS201908210_111                       \n",
      "66  CS201908210_112                       \n",
      "67  CS201908210_113                       \n",
      "68   CS201908210_30    Inh L4-6 SST B3GAT2\n",
      "69   CS201908210_31   Inh L5-6 SST KLHDC8A\n",
      "70  CS201908210_114                       \n",
      "71   CS201908210_32   Inh L5-6 SST NPM1P10\n",
      "72   CS201908210_33    Inh L4-6 SST GXYLT2\n",
      "73   CS201908210_34    Inh L4-5 SST STK32A\n",
      "74  CS201908210_115                       \n",
      "75  CS201908210_116                       \n",
      "76   CS201908210_35     Inh L1-3 SST CALB1\n",
      "77   CS201908210_36    Inh L3-5 SST ADGRG6\n",
      "78   CS201908210_37      Inh L2-4 SST FRZB\n",
      "79   CS201908210_38        Inh L5-6 SST TH\n",
      "80  CS201908210_117                  PVALB\n",
      "81   CS201908210_39    Inh L5-6 LHX6 GLP1R\n",
      "82  CS201908210_118                       \n",
      "83   CS201908210_40    Inh L5-6 PVALB LGR5\n",
      "84  CS201908210_119                       \n",
      "85  CS201908210_120                       \n",
      "86   CS201908210_41    Inh L4-5 PVALB MEPE\n",
      "87  CS201908210_121                       \n",
      "88   CS201908210_42   Inh L2-4 PVALB WFDC2\n",
      "89   CS201908210_43   Inh L4-6 PVALB SULF1\n",
      "90   CS201908210_44  Inh L5-6 SST MIR548F2\n",
      "91   CS201908210_45  Inh L2-5 PVALB SCUBE3\n",
      "92  CS201908210_122             Excitatory\n",
      "93  CS201908210_123                       \n",
      "94  CS201908210_124                       \n",
      "95  CS201908210_125                       \n",
      "96  CS201908210_126                       \n",
      "97  CS201908210_127                   L2/3\n",
      "98  CS201908210_128                       \n",
      "99   CS201908210_46       Exc L2 LAMP5 LTK\n",
      "                  ID                 PrefLabel\n",
      "100   CS201908210_47  Exc L2-4 LINC00507 GLP2R\n",
      "101   CS201908210_48  Exc L2-3 LINC00507 FREM3\n",
      "102   CS201908210_49     Exc L5-6 THEMIS C1QL3\n",
      "103  CS201908210_129                      RORB\n",
      "104  CS201908210_130                        L4\n",
      "105   CS201908210_50     Exc L3-4 RORB CARM1P1\n",
      "106  CS201908210_131                          \n",
      "107   CS201908210_51        Exc L3-5 RORB ESR1\n",
      "108  CS201908210_132                          \n",
      "109   CS201908210_52     Exc L3-5 RORB COL22A1\n",
      "110  CS201908210_133                          \n",
      "111   CS201908210_53     Exc L3-5 RORB FILIP1L\n",
      "112   CS201908210_54      Exc L3-5 RORB TWIST2\n",
      "113  CS201908210_134                          \n",
      "114  CS201908210_135                          \n",
      "115   CS201908210_55      Exc L4-5 RORB FOLH1B\n",
      "116  CS201908210_136                          \n",
      "117   CS201908210_56      Exc L4-6 RORB SEMA3E\n",
      "118   CS201908210_57       Exc L4-5 RORB DAPK2\n",
      "119  CS201908210_137                          \n",
      "120   CS201908210_58       Exc L5-6 RORB TTC12\n",
      "121   CS201908210_59         Exc L4-6 RORB C1R\n",
      "122   CS201908210_60      Exc L4-5 FEZF2 SCN4B\n",
      "123  CS201908210_138                        L6\n",
      "124   CS201908210_61   Exc L5-6 THEMIS DCSTAMP\n",
      "125  CS201908210_139                          \n",
      "126   CS201908210_62    Exc L5-6 THEMIS CRABP1\n",
      "127   CS201908210_63     Exc L5-6 THEMIS FGF10\n",
      "128  CS201908210_140                     FEZF2\n",
      "129   CS201908210_64       Exc L4-6 FEZF2 IL26\n",
      "130  CS201908210_141                        L6\n",
      "131   CS201908210_65        Exc L5-6 FEZF2 ABO\n",
      "132  CS201908210_142                          \n",
      "133  CS201908210_143                          \n",
      "134  CS201908210_144                          \n",
      "135   CS201908210_66       Exc L6 FEZF2 SCUBE1\n",
      "136   CS201908210_67       Exc L5-6 FEZF2 IL15\n",
      "137   CS201908210_68        Exc L6 FEZF2 OR2T8\n",
      "138   CS201908210_69   Exc L5-6 FEZF2 EFTUD1P1\n",
      "139  CS201908210_145              Non-neuronal\n",
      "140  CS201908210_146                          \n",
      "141  CS201908210_147                          \n",
      "142  CS201908210_148                          \n",
      "143   CS201908210_70           OPC L1-6 PDGFRA\n",
      "144  CS201908210_149                          \n",
      "145   CS201908210_71  Astro L1-6 FGFR3 SLC14A1\n",
      "146   CS201908210_72     Astro L1-2 FGFR3 GFAP\n",
      "147   CS201908210_73         Oligo L1-6 OPALIN\n",
      "148   CS201908210_74         Endo L2-6 NOSTRIN\n"
     ]
    }
   ],
   "source": [
    "dl = [robot_template_seed]\n",
    "\n",
    "synonym_properties = ['original_label', \n",
    "                      'cell_set_aligned_alias',\n",
    "                      'cell_set_additional_aliases']\n",
    "for o in out['nodes']:\n",
    "    d = {}\n",
    "    d['ID'] = o['cell_set_accession']\n",
    "    d['Label'] = o['cell_set_label']\n",
    "    d['PrefLabel'] = o['cell_set_preferred_alias']\n",
    "    d['Entity Type'] = 'Cluster'\n",
    "    d['Synonyms'] = '|'.join([o[prop] for prop in synonym_properties if o[prop]])\n",
    "    d['Property Assertions'] = '|'.join([e[1] for e in out['edges'] if e[0] == d['ID']]) # There should only be one!\n",
    "    dl.append(d)\n",
    "\n",
    "robot_template = pd.DataFrame.from_records(dl)\n",
    "print(robot_template[['ID','PrefLabel']][0:50])\n",
    "print(robot_template[['ID','PrefLabel']][51:100])\n",
    "print(robot_template[['ID','PrefLabel']][100:-1])\n",
    "\n",
    "    \n",
    "    "
   ]
  },
  {
   "cell_type": "code",
   "execution_count": 75,
   "metadata": {},
   "outputs": [],
   "source": [
    "robot_template.to_csv(\"CCN201908210.tsv\", sep=\"\\t\")"
   ]
  },
  {
   "cell_type": "code",
   "execution_count": null,
   "metadata": {},
   "outputs": [],
   "source": [
    "# Constuct helper files\n",
    "\n",
    "## helper ontology  - just needs declarations and labels\n",
    "\n",
    "# Class: cell cluster (we have one in VFB but should be generalised - maybe cell set?)\n",
    "# OP subcluster_of\n",
    "# capable_of\n",
    "\n",
    "## JSON LD Curie map - see default here: https://github.com/ontodev/robot/blob/master/robot-core/src/main/resources/obo_context.jsonld\n",
    "\n"
   ]
  }
 ],
 "metadata": {
  "kernelspec": {
   "display_name": "Python 3",
   "language": "python",
   "name": "python3"
  },
  "language_info": {
   "codemirror_mode": {
    "name": "ipython",
    "version": 3
   },
   "file_extension": ".py",
   "mimetype": "text/x-python",
   "name": "python",
   "nbconvert_exporter": "python",
   "pygments_lexer": "ipython3",
   "version": "3.8.5"
  }
 },
 "nbformat": 4,
 "nbformat_minor": 4
}
