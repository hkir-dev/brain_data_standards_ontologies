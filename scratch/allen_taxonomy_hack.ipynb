{
 "cells": [
  {
   "cell_type": "markdown",
   "metadata": {},
   "source": [
    "### Background\n",
    "\n",
    "* AIM Convert dend.json to:\n",
    "   * A set of OWL individuals linked by subClusterOf relationships.\n",
    "   * Links from OWL Individuals to functions (and morphologies?)\n",
    "   * A (more limited) set of OWL Classes whose classificatin is driven by subclustering & links from Individuals to functions/morphologies - see\n",
    "   \n",
    "* Test data in this notebook comes from Allen consensus clustering of MTG cells provided by Jeremy Miller.  Here is a visualisation of the dendrogram:\n",
    "\n",
    "![image](https://user-images.githubusercontent.com/112839/95180282-abf16400-07b9-11eb-9b8d-9f84a7abf757.png)\n"
   ]
  },
  {
   "cell_type": "code",
   "execution_count": null,
   "metadata": {},
   "outputs": [],
   "source": [
    "type_mappings = { 'Neuronal' : '',\n",
    "                   '': 'Astrocyte'\n",
    "                   '': 'Oligodendrocyte',\n",
    "                   '': 'Endothelial cell'}\n",
    "\n",
    "function_mappings = { 'Inhibitory': '', # Mapped to GABA-ergic\n",
    "                      'Excitatory': '', # Mapped to Glutamatergic,\n",
    "                    }"
   ]
  },
  {
   "cell_type": "code",
   "execution_count": 76,
   "metadata": {},
   "outputs": [
    {
     "data": {
      "text/plain": [
       "dict_keys(['node_attributes', 'children'])"
      ]
     },
     "execution_count": 76,
     "metadata": {},
     "output_type": "execute_result"
    }
   ],
   "source": [
    "import json\n",
    "f = open('dend.json', 'r')\n",
    "j = json.loads(f.read())\n",
    "j.keys()\n",
    "\n"
   ]
  },
  {
   "cell_type": "code",
   "execution_count": null,
   "metadata": {},
   "outputs": [],
   "source": []
  },
  {
   "cell_type": "code",
   "execution_count": 77,
   "metadata": {},
   "outputs": [
    {
     "data": {
      "text/plain": [
       "2"
      ]
     },
     "execution_count": 77,
     "metadata": {},
     "output_type": "execute_result"
    }
   ],
   "source": [
    "# Bifurcation of tree at root\n",
    "\n",
    "len(j['children'])"
   ]
  },
  {
   "cell_type": "code",
   "execution_count": 3,
   "metadata": {},
   "outputs": [
    {
     "data": {
      "text/plain": [
       "[{'members': 75,\n",
       "  'midpoint': 57.5288,\n",
       "  'height': 0.9146,\n",
       "  'label': '',\n",
       "  'cell_set_accession': 'CS201908210_76',\n",
       "  'original_label': 'n1',\n",
       "  'cell_set_label': 'All cells',\n",
       "  'cell_set_preferred_alias': '',\n",
       "  'cell_set_aligned_alias': '',\n",
       "  'cell_set_additional_aliases': '',\n",
       "  'cell_set_structure': 'neocortex',\n",
       "  'cell_set_alias_assignee': 'Trygve Bakken||',\n",
       "  'cell_set_alias_citation': '10.1038/s41586-019-1506-7||',\n",
       "  'cell_set_ontology_tag': 'UBERON:0001950',\n",
       "  'taxonomy_id': 'CCN201908210',\n",
       "  '_row': 'n1'}]"
      ]
     },
     "execution_count": 3,
     "metadata": {},
     "output_type": "execute_result"
    }
   ],
   "source": [
    "# Inspect  root node:\n",
    "\n",
    "j['node_attributes']"
   ]
  },
  {
   "cell_type": "code",
   "execution_count": 115,
   "metadata": {},
   "outputs": [],
   "source": [
    "# A simple transformation to a list of nodes and edges for easier processing (Ultimately this should be JSON-LD)\n",
    "\n",
    "import warnings\n",
    "\n",
    "out = {}\n",
    "\n",
    "def tree_recurse(tree, out, parent_node_id = ''):\n",
    "    \"\"\"Convert Allen Taxonomy JSON to a list of nodes and edges, where nodes are\n",
    "    Copies of nodes in Allen JSON & edges are duples - (subject(child), object(parent))\n",
    "    identified by 'cell_set_accession'.\n",
    "    \n",
    "    Args:\n",
    "        - Tree: Allen taxonomy in JSON, or some subtree of it\n",
    "        - Output structure to populate (starting point must be an empty dict)\n",
    "        - parent_node_id: 'cell_set_accession' of parent.  Default (no parent) = root.\n",
    "        \n",
    "    \"\"\"\n",
    "    if not out:\n",
    "        out['nodes']= []\n",
    "        out['edges'] = set()\n",
    "    if 'node_attributes' in tree.keys():\n",
    "        if len(tree['node_attributes']) > 1:\n",
    "            warnings.warn(\"Don't know how to deal with multiple nodes per recurse\")\n",
    "        ID = tree['node_attributes'][0]['cell_set_accession']\n",
    "            \n",
    "        out['nodes'].append(tree['node_attributes'][0])\n",
    "        if parent_node_id:\n",
    "            out['edges'].add((ID, parent_node_id))\n",
    "        if 'children' in tree.keys():\n",
    "            for c in tree['children']:\n",
    "                tree_recurse(c, out, parent_node_id = ID)\n",
    "        else:\n",
    "            warnings.warn(\"non leaf node %s has no children\" % ID)\n",
    "    elif ≈:\n",
    "        if len(tree['leaf_attributes']) > 1:\n",
    "            warnings.warn(\"Don't know how to deal with multiple nodes per recurse\")       \n",
    "        ID = tree['leaf_attributes'][0]['cell_set_accession']\n",
    "        # Tag leaves\n",
    "        tree['leaf_attributes'][0]['is_leaf'] = True\n",
    "        out['nodes'].append(tree['leaf_attributes'][0])\n",
    "        out['edges'].add((ID, parent_node_id))\n",
    "        if 'children' in tree.keys():\n",
    "            warnings.warn('leaf node %s has children!' % ID)\n",
    "    else:\n",
    "        warnings.warn(\"No recognized nodes\")\n",
    "        \n",
    "tree_recurse(j, out)"
   ]
  },
  {
   "cell_type": "code",
   "execution_count": 116,
   "metadata": {},
   "outputs": [
    {
     "data": {
      "text/plain": [
       "149"
      ]
     },
     "execution_count": 116,
     "metadata": {},
     "output_type": "execute_result"
    }
   ],
   "source": [
    "len(out['nodes'])"
   ]
  },
  {
   "cell_type": "code",
   "execution_count": 123,
   "metadata": {},
   "outputs": [
    {
     "data": {
      "text/plain": [
       "[('CS201908210_104', 'CS201908210_102'),\n",
       " ('CS201908210_89', 'CS201908210_88'),\n",
       " ('CS201908210_34', 'CS201908210_111'),\n",
       " ('CS201908210_111', 'CS201908210_110'),\n",
       " ('CS201908210_143', 'CS201908210_142'),\n",
       " ('CS201908210_78', 'CS201908210_77'),\n",
       " ('CS201908210_47', 'CS201908210_128'),\n",
       " ('CS201908210_108', 'CS201908210_107'),\n",
       " ('CS201908210_12', 'CS201908210_91'),\n",
       " ('CS201908210_136', 'CS201908210_135')]"
      ]
     },
     "execution_count": 123,
     "metadata": {},
     "output_type": "execute_result"
    }
   ],
   "source": [
    "list(out['edges'])[0:10]"
   ]
  },
  {
   "cell_type": "code",
   "execution_count": 126,
   "metadata": {},
   "outputs": [
    {
     "data": {
      "text/plain": [
       "'CS201908210_102'"
      ]
     },
     "execution_count": 126,
     "metadata": {},
     "output_type": "execute_result"
    }
   ],
   "source": [
    " '|'.join([e[1] for e in out['edges'] if e[0] == 'CS201908210_104'])"
   ]
  },
  {
   "cell_type": "code",
   "execution_count": 155,
   "metadata": {},
   "outputs": [
    {
     "name": "stdout",
     "output_type": "stream",
     "text": [
      "['Inh L1-2 PAX6 CDH12', 'CS201908210_81', 'LAMP5/PAX6', 'ADARB2 (CGE)', 'Inhibitory', 'Neuronal', 'CS201908210_76']\n",
      "['Inh L1-2 PAX6 TNFAIP8L3', 'CS201908210_81', 'LAMP5/PAX6', 'ADARB2 (CGE)', 'Inhibitory', 'Neuronal', 'CS201908210_76']\n",
      "['Inh L1 LAMP5 NMBR', 'CS201908210_82', 'LAMP5/PAX6', 'ADARB2 (CGE)', 'Inhibitory', 'Neuronal', 'CS201908210_76']\n",
      "['Inh L1-4 LAMP5 LCP2', 'CS201908210_84', 'CS201908210_83', 'CS201908210_82', 'LAMP5/PAX6', 'ADARB2 (CGE)', 'Inhibitory', 'Neuronal', 'CS201908210_76']\n",
      "['Inh L1-2 LAMP5 DBP', 'CS201908210_84', 'CS201908210_83', 'CS201908210_82', 'LAMP5/PAX6', 'ADARB2 (CGE)', 'Inhibitory', 'Neuronal', 'CS201908210_76']\n",
      "['Inh L2-6 LAMP5 CA1', 'CS201908210_83', 'CS201908210_82', 'LAMP5/PAX6', 'ADARB2 (CGE)', 'Inhibitory', 'Neuronal', 'CS201908210_76']\n",
      "['Inh L1 SST CHRNA4', 'CS201908210_89', 'CS201908210_88', 'CS201908210_87', 'CS201908210_86', 'VIP', 'ADARB2 (CGE)', 'Inhibitory', 'Neuronal', 'CS201908210_76']\n",
      "['Inh L1-2 ADARB2 MC4R', 'CS201908210_89', 'CS201908210_88', 'CS201908210_87', 'CS201908210_86', 'VIP', 'ADARB2 (CGE)', 'Inhibitory', 'Neuronal', 'CS201908210_76']\n",
      "['Inh L1-2 SST BAGE2', 'CS201908210_88', 'CS201908210_87', 'CS201908210_86', 'VIP', 'ADARB2 (CGE)', 'Inhibitory', 'Neuronal', 'CS201908210_76']\n",
      "['Inh L1-3 VIP SYT6', 'CS201908210_90', 'CS201908210_87', 'CS201908210_86', 'VIP', 'ADARB2 (CGE)', 'Inhibitory', 'Neuronal', 'CS201908210_76']\n",
      "['Inh L1-2 VIP TSPAN12', 'CS201908210_91', 'CS201908210_90', 'CS201908210_87', 'CS201908210_86', 'VIP', 'ADARB2 (CGE)', 'Inhibitory', 'Neuronal', 'CS201908210_76']\n",
      "['Inh L1-4 VIP CHRNA6', 'CS201908210_91', 'CS201908210_90', 'CS201908210_87', 'CS201908210_86', 'VIP', 'ADARB2 (CGE)', 'Inhibitory', 'Neuronal', 'CS201908210_76']\n",
      "['Inh L1-3 VIP ADAMTSL1', 'CS201908210_92', 'CS201908210_86', 'VIP', 'ADARB2 (CGE)', 'Inhibitory', 'Neuronal', 'CS201908210_76']\n",
      "['Inh L1-4 VIP PENK', 'CS201908210_92', 'CS201908210_86', 'VIP', 'ADARB2 (CGE)', 'Inhibitory', 'Neuronal', 'CS201908210_76']\n",
      "['Inh L2-6 VIP QPCT', 'CS201908210_96', 'CS201908210_95', 'CS201908210_94', 'CS201908210_93', 'VIP', 'ADARB2 (CGE)', 'Inhibitory', 'Neuronal', 'CS201908210_76']\n",
      "['Inh L3-6 VIP HS3ST3A1', 'CS201908210_96', 'CS201908210_95', 'CS201908210_94', 'CS201908210_93', 'VIP', 'ADARB2 (CGE)', 'Inhibitory', 'Neuronal', 'CS201908210_76']\n",
      "['Inh L1-2 VIP PCDH20', 'CS201908210_95', 'CS201908210_94', 'CS201908210_93', 'VIP', 'ADARB2 (CGE)', 'Inhibitory', 'Neuronal', 'CS201908210_76']\n",
      "['Inh L2-5 VIP SERPINF1', 'CS201908210_97', 'CS201908210_94', 'CS201908210_93', 'VIP', 'ADARB2 (CGE)', 'Inhibitory', 'Neuronal', 'CS201908210_76']\n",
      "['Inh L2-5 VIP TYR', 'CS201908210_97', 'CS201908210_94', 'CS201908210_93', 'VIP', 'ADARB2 (CGE)', 'Inhibitory', 'Neuronal', 'CS201908210_76']\n",
      "['Inh L1-3 VIP CHRM2', 'CS201908210_101', 'CS201908210_100', 'CS201908210_99', 'CS201908210_98', 'CS201908210_93', 'VIP', 'ADARB2 (CGE)', 'Inhibitory', 'Neuronal', 'CS201908210_76']\n",
      "['Inh L2-4 VIP CBLN1', 'CS201908210_101', 'CS201908210_100', 'CS201908210_99', 'CS201908210_98', 'CS201908210_93', 'VIP', 'ADARB2 (CGE)', 'Inhibitory', 'Neuronal', 'CS201908210_76']\n",
      "['Inh L1-3 VIP CCDC184', 'CS201908210_100', 'CS201908210_99', 'CS201908210_98', 'CS201908210_93', 'VIP', 'ADARB2 (CGE)', 'Inhibitory', 'Neuronal', 'CS201908210_76']\n",
      "['Inh L1-3 VIP GGH', 'CS201908210_99', 'CS201908210_98', 'CS201908210_93', 'VIP', 'ADARB2 (CGE)', 'Inhibitory', 'Neuronal', 'CS201908210_76']\n",
      "['Inh L1-2 VIP LBH', 'CS201908210_103', 'CS201908210_102', 'CS201908210_98', 'CS201908210_93', 'VIP', 'ADARB2 (CGE)', 'Inhibitory', 'Neuronal', 'CS201908210_76']\n",
      "['Inh L2-3 VIP CASC6', 'CS201908210_103', 'CS201908210_102', 'CS201908210_98', 'CS201908210_93', 'VIP', 'ADARB2 (CGE)', 'Inhibitory', 'Neuronal', 'CS201908210_76']\n",
      "['Inh L2-4 VIP SPAG17', 'CS201908210_104', 'CS201908210_102', 'CS201908210_98', 'CS201908210_93', 'VIP', 'ADARB2 (CGE)', 'Inhibitory', 'Neuronal', 'CS201908210_76']\n",
      "['Inh L1-4 VIP OPRM1', 'CS201908210_104', 'CS201908210_102', 'CS201908210_98', 'CS201908210_93', 'VIP', 'ADARB2 (CGE)', 'Inhibitory', 'Neuronal', 'CS201908210_76']\n",
      "['Inh L3-6 SST NPY', 'CS201908210_106', 'LHX6 (MGE)', 'Inhibitory', 'Neuronal', 'CS201908210_76']\n",
      "['Inh L3-6 SST HPGD', 'CS201908210_110', 'CS201908210_109', 'SST', 'CS201908210_107', 'CS201908210_106', 'LHX6 (MGE)', 'Inhibitory', 'Neuronal', 'CS201908210_76']\n",
      "['Inh L4-6 SST B3GAT2', 'CS201908210_113', 'CS201908210_112', 'CS201908210_111', 'CS201908210_110', 'CS201908210_109', 'SST', 'CS201908210_107', 'CS201908210_106', 'LHX6 (MGE)', 'Inhibitory', 'Neuronal', 'CS201908210_76']\n",
      "['Inh L5-6 SST KLHDC8A', 'CS201908210_113', 'CS201908210_112', 'CS201908210_111', 'CS201908210_110', 'CS201908210_109', 'SST', 'CS201908210_107', 'CS201908210_106', 'LHX6 (MGE)', 'Inhibitory', 'Neuronal', 'CS201908210_76']\n",
      "['Inh L5-6 SST NPM1P10', 'CS201908210_114', 'CS201908210_112', 'CS201908210_111', 'CS201908210_110', 'CS201908210_109', 'SST', 'CS201908210_107', 'CS201908210_106', 'LHX6 (MGE)', 'Inhibitory', 'Neuronal', 'CS201908210_76']\n",
      "['Inh L4-6 SST GXYLT2', 'CS201908210_114', 'CS201908210_112', 'CS201908210_111', 'CS201908210_110', 'CS201908210_109', 'SST', 'CS201908210_107', 'CS201908210_106', 'LHX6 (MGE)', 'Inhibitory', 'Neuronal', 'CS201908210_76']\n",
      "['Inh L4-5 SST STK32A', 'CS201908210_111', 'CS201908210_110', 'CS201908210_109', 'SST', 'CS201908210_107', 'CS201908210_106', 'LHX6 (MGE)', 'Inhibitory', 'Neuronal', 'CS201908210_76']\n",
      "['Inh L1-3 SST CALB1', 'CS201908210_116', 'CS201908210_115', 'CS201908210_109', 'SST', 'CS201908210_107', 'CS201908210_106', 'LHX6 (MGE)', 'Inhibitory', 'Neuronal', 'CS201908210_76']\n",
      "['Inh L3-5 SST ADGRG6', 'CS201908210_116', 'CS201908210_115', 'CS201908210_109', 'SST', 'CS201908210_107', 'CS201908210_106', 'LHX6 (MGE)', 'Inhibitory', 'Neuronal', 'CS201908210_76']\n",
      "['Inh L2-4 SST FRZB', 'CS201908210_115', 'CS201908210_109', 'SST', 'CS201908210_107', 'CS201908210_106', 'LHX6 (MGE)', 'Inhibitory', 'Neuronal', 'CS201908210_76']\n",
      "['Inh L5-6 SST TH', 'SST', 'CS201908210_107', 'CS201908210_106', 'LHX6 (MGE)', 'Inhibitory', 'Neuronal', 'CS201908210_76']\n",
      "['Inh L5-6 LHX6 GLP1R', 'PVALB', 'CS201908210_107', 'CS201908210_106', 'LHX6 (MGE)', 'Inhibitory', 'Neuronal', 'CS201908210_76']\n",
      "['Inh L5-6 PVALB LGR5', 'CS201908210_118', 'PVALB', 'CS201908210_107', 'CS201908210_106', 'LHX6 (MGE)', 'Inhibitory', 'Neuronal', 'CS201908210_76']\n",
      "['Inh L4-5 PVALB MEPE', 'CS201908210_120', 'CS201908210_119', 'CS201908210_118', 'PVALB', 'CS201908210_107', 'CS201908210_106', 'LHX6 (MGE)', 'Inhibitory', 'Neuronal', 'CS201908210_76']\n",
      "['Inh L2-4 PVALB WFDC2', 'CS201908210_121', 'CS201908210_120', 'CS201908210_119', 'CS201908210_118', 'PVALB', 'CS201908210_107', 'CS201908210_106', 'LHX6 (MGE)', 'Inhibitory', 'Neuronal', 'CS201908210_76']\n",
      "['Inh L4-6 PVALB SULF1', 'CS201908210_121', 'CS201908210_120', 'CS201908210_119', 'CS201908210_118', 'PVALB', 'CS201908210_107', 'CS201908210_106', 'LHX6 (MGE)', 'Inhibitory', 'Neuronal', 'CS201908210_76']\n",
      "['Inh L5-6 SST MIR548F2', 'CS201908210_119', 'CS201908210_118', 'PVALB', 'CS201908210_107', 'CS201908210_106', 'LHX6 (MGE)', 'Inhibitory', 'Neuronal', 'CS201908210_76']\n",
      "['Inh L2-5 PVALB SCUBE3', 'LHX6 (MGE)', 'Inhibitory', 'Neuronal', 'CS201908210_76']\n",
      "['Exc L2 LAMP5 LTK', 'CS201908210_128', 'L2/3', 'CS201908210_126', 'CS201908210_125', 'CS201908210_124', 'CS201908210_123', 'Excitatory', 'Neuronal', 'CS201908210_76']\n",
      "['Exc L2-4 LINC00507 GLP2R', 'CS201908210_128', 'L2/3', 'CS201908210_126', 'CS201908210_125', 'CS201908210_124', 'CS201908210_123', 'Excitatory', 'Neuronal', 'CS201908210_76']\n",
      "['Exc L2-3 LINC00507 FREM3', 'L2/3', 'CS201908210_126', 'CS201908210_125', 'CS201908210_124', 'CS201908210_123', 'Excitatory', 'Neuronal', 'CS201908210_76']\n",
      "['Exc L5-6 THEMIS C1QL3', 'CS201908210_126', 'CS201908210_125', 'CS201908210_124', 'CS201908210_123', 'Excitatory', 'Neuronal', 'CS201908210_76']\n",
      "['Exc L3-4 RORB CARM1P1', 'L4', 'RORB', 'CS201908210_125', 'CS201908210_124', 'CS201908210_123', 'Excitatory', 'Neuronal', 'CS201908210_76']\n",
      "['Exc L3-5 RORB ESR1', 'CS201908210_131', 'L4', 'RORB', 'CS201908210_125', 'CS201908210_124', 'CS201908210_123', 'Excitatory', 'Neuronal', 'CS201908210_76']\n",
      "['Exc L3-5 RORB COL22A1', 'CS201908210_132', 'CS201908210_131', 'L4', 'RORB', 'CS201908210_125', 'CS201908210_124', 'CS201908210_123', 'Excitatory', 'Neuronal', 'CS201908210_76']\n",
      "['Exc L3-5 RORB FILIP1L', 'CS201908210_133', 'CS201908210_132', 'CS201908210_131', 'L4', 'RORB', 'CS201908210_125', 'CS201908210_124', 'CS201908210_123', 'Excitatory', 'Neuronal', 'CS201908210_76']\n",
      "['Exc L3-5 RORB TWIST2', 'CS201908210_133', 'CS201908210_132', 'CS201908210_131', 'L4', 'RORB', 'CS201908210_125', 'CS201908210_124', 'CS201908210_123', 'Excitatory', 'Neuronal', 'CS201908210_76']\n",
      "['Exc L4-5 RORB FOLH1B', 'CS201908210_135', 'CS201908210_134', 'RORB', 'CS201908210_125', 'CS201908210_124', 'CS201908210_123', 'Excitatory', 'Neuronal', 'CS201908210_76']\n",
      "['Exc L4-6 RORB SEMA3E', 'CS201908210_136', 'CS201908210_135', 'CS201908210_134', 'RORB', 'CS201908210_125', 'CS201908210_124', 'CS201908210_123', 'Excitatory', 'Neuronal', 'CS201908210_76']\n",
      "['Exc L4-5 RORB DAPK2', 'CS201908210_136', 'CS201908210_135', 'CS201908210_134', 'RORB', 'CS201908210_125', 'CS201908210_124', 'CS201908210_123', 'Excitatory', 'Neuronal', 'CS201908210_76']\n",
      "['Exc L5-6 RORB TTC12', 'CS201908210_137', 'CS201908210_134', 'RORB', 'CS201908210_125', 'CS201908210_124', 'CS201908210_123', 'Excitatory', 'Neuronal', 'CS201908210_76']\n",
      "['Exc L4-6 RORB C1R', 'CS201908210_137', 'CS201908210_134', 'RORB', 'CS201908210_125', 'CS201908210_124', 'CS201908210_123', 'Excitatory', 'Neuronal', 'CS201908210_76']\n",
      "['Exc L4-5 FEZF2 SCN4B', 'CS201908210_124', 'CS201908210_123', 'Excitatory', 'Neuronal', 'CS201908210_76']\n",
      "['Exc L5-6 THEMIS DCSTAMP', 'L6', 'CS201908210_123', 'Excitatory', 'Neuronal', 'CS201908210_76']\n",
      "['Exc L5-6 THEMIS CRABP1', 'CS201908210_139', 'L6', 'CS201908210_123', 'Excitatory', 'Neuronal', 'CS201908210_76']\n",
      "['Exc L5-6 THEMIS FGF10', 'CS201908210_139', 'L6', 'CS201908210_123', 'Excitatory', 'Neuronal', 'CS201908210_76']\n",
      "['Exc L4-6 FEZF2 IL26', 'FEZF2', 'Excitatory', 'Neuronal', 'CS201908210_76']\n",
      "['Exc L5-6 FEZF2 ABO', 'L6', 'FEZF2', 'Excitatory', 'Neuronal', 'CS201908210_76']\n",
      "['Exc L6 FEZF2 SCUBE1', 'CS201908210_144', 'CS201908210_143', 'CS201908210_142', 'L6', 'FEZF2', 'Excitatory', 'Neuronal', 'CS201908210_76']\n",
      "['Exc L5-6 FEZF2 IL15', 'CS201908210_144', 'CS201908210_143', 'CS201908210_142', 'L6', 'FEZF2', 'Excitatory', 'Neuronal', 'CS201908210_76']\n",
      "['Exc L6 FEZF2 OR2T8', 'CS201908210_143', 'CS201908210_142', 'L6', 'FEZF2', 'Excitatory', 'Neuronal', 'CS201908210_76']\n",
      "['Exc L5-6 FEZF2 EFTUD1P1', 'CS201908210_142', 'L6', 'FEZF2', 'Excitatory', 'Neuronal', 'CS201908210_76']\n",
      "['OPC L1-6 PDGFRA', 'CS201908210_148', 'CS201908210_147', 'CS201908210_146', 'Non-neuronal', 'CS201908210_76']\n",
      "['Astro L1-6 FGFR3 SLC14A1', 'CS201908210_149', 'CS201908210_148', 'CS201908210_147', 'CS201908210_146', 'Non-neuronal', 'CS201908210_76']\n",
      "['Astro L1-2 FGFR3 GFAP', 'CS201908210_149', 'CS201908210_148', 'CS201908210_147', 'CS201908210_146', 'Non-neuronal', 'CS201908210_76']\n",
      "['Oligo L1-6 OPALIN', 'CS201908210_147', 'CS201908210_146', 'Non-neuronal', 'CS201908210_76']\n",
      "['Endo L2-6 NOSTRIN', 'CS201908210_146', 'Non-neuronal', 'CS201908210_76']\n",
      "['Micro L1-6 TYROBP', 'Non-neuronal', 'CS201908210_76']\n"
     ]
    }
   ],
   "source": [
    "# view paths to root (single inheritance assumed):\n",
    "\n",
    "def ascend(node_id, edges, path):\n",
    "    p = [e[1] for e in edges if e[0] == node_id]\n",
    "    if not path:\n",
    "        path.append(node_id)\n",
    "    if p:\n",
    "        path.append(p[0])\n",
    "        ascend(p[0], edges, path)\n",
    "        \n",
    "def id_conv(path, nodes):\n",
    "    out = []\n",
    "    for p in path:\n",
    "        pref_alias = [n['cell_set_preferred_alias'] for n in nodes \n",
    "                      if (n['cell_set_accession'] == p) and n['cell_set_preferred_alias'] ]\n",
    "        if pref_alias:\n",
    "            out.extend(pref_alias)\n",
    "        else:\n",
    "            out.append(p)\n",
    "    return out\n",
    "\n",
    "for n in out['nodes']:\n",
    "    if 'is_leaf' in n.keys() and n['is_leaf']:\n",
    "        path_to_root = []\n",
    "        ascend(node_id = n['cell_set_accession'], edges=out['edges'], path=path_to_root)\n",
    "        print(id_conv(path_to_root, out['nodes']))\n",
    "        \n",
    "\n"
   ]
  },
  {
   "cell_type": "code",
   "execution_count": 39,
   "metadata": {},
   "outputs": [
    {
     "name": "stdout",
     "output_type": "stream",
     "text": [
      "cell_set_accession, e.g. 'CS201908210_77' is a unique attribute\n",
      "original_label, e.g. 'n2' is a unique attribute\n",
      "cell_set_label, e.g. 'MTG 001-069' is a unique attribute\n",
      "_row, e.g. 'n2' is a unique attribute\n"
     ]
    }
   ],
   "source": [
    "## Check for unique attribute values\n",
    "\n",
    "def unique_attribute_test(nodes):\n",
    "    # Assuming root node has all keys\n",
    "    for attr in nodes[0].keys():\n",
    "        a = {n[attr] for n in out['nodes'] if attr in n.keys()}\n",
    "        if len(nodes) == len(a):\n",
    "            print(\"%s, e.g. '%s' is a unique attribute\" % (attr, nodes[1][attr]))\n",
    "            \n",
    "unique_attribute_test(out['nodes'])"
   ]
  },
  {
   "cell_type": "code",
   "execution_count": null,
   "metadata": {},
   "outputs": [],
   "source": [
    "# Lets go with cell_set_label as rdfs_label for now.  It may be worth inventing some APs for the others...\n",
    "\n",
    "# Alternative: \n",
    "   # Everything with a cell_set_preferred_alias gets the name \"$cell_set_preferred_alias - $taxonomy_id. \n",
    "   # We make also classes for these\n",
    "   # The rest we name \"$cell_set_label - $taxonomy_id\"\n",
    "   # other identifiers go in synonyms (at least for now)"
   ]
  },
  {
   "cell_type": "code",
   "execution_count": 130,
   "metadata": {},
   "outputs": [],
   "source": [
    "robot_template_seed = { 'ID': 'ID', \n",
    "                       'Label': 'LABEL',\n",
    "                       'PrefLabel': 'A skos:prefLabel',\n",
    "                       'Entity Type': 'TI %',\n",
    "                       'TYPE': 'TYPE',\n",
    "                       'Property Assertions': 'I BDSHELP:subcluster_of SPLIT='|'',\n",
    "                       'Synonyms': 'A oboInOwl:has_exact_synonym',\n",
    "                      }\n",
    "\n"
   ]
  },
  {
   "cell_type": "code",
   "execution_count": 112,
   "metadata": {},
   "outputs": [
    {
     "data": {
      "text/html": [
       "<div>\n",
       "<style scoped>\n",
       "    .dataframe tbody tr th:only-of-type {\n",
       "        vertical-align: middle;\n",
       "    }\n",
       "\n",
       "    .dataframe tbody tr th {\n",
       "        vertical-align: top;\n",
       "    }\n",
       "\n",
       "    .dataframe thead th {\n",
       "        text-align: right;\n",
       "    }\n",
       "</style>\n",
       "<table border=\"1\" class=\"dataframe\">\n",
       "  <thead>\n",
       "    <tr style=\"text-align: right;\">\n",
       "      <th></th>\n",
       "      <th>ID</th>\n",
       "      <th>Label</th>\n",
       "      <th>PrefLabel</th>\n",
       "      <th>Entity Type</th>\n",
       "      <th>TYPE</th>\n",
       "      <th>Property Assertions</th>\n",
       "      <th>Synonyms</th>\n",
       "    </tr>\n",
       "  </thead>\n",
       "  <tbody>\n",
       "    <tr>\n",
       "      <th>0</th>\n",
       "      <td>ID</td>\n",
       "      <td>LABEL</td>\n",
       "      <td>A skos:prefLabel</td>\n",
       "      <td>TI %</td>\n",
       "      <td>TYPE</td>\n",
       "      <td>I BDSHELP:subcluster_of</td>\n",
       "      <td>A oio:has_exact_synonym</td>\n",
       "    </tr>\n",
       "  </tbody>\n",
       "</table>\n",
       "</div>"
      ],
      "text/plain": [
       "   ID  Label         PrefLabel Entity Type  TYPE      Property Assertions  \\\n",
       "0  ID  LABEL  A skos:prefLabel        TI %  TYPE  I BDSHELP:subcluster_of   \n",
       "\n",
       "                  Synonyms  \n",
       "0  A oio:has_exact_synonym  "
      ]
     },
     "execution_count": 112,
     "metadata": {},
     "output_type": "execute_result"
    }
   ],
   "source": [
    "import pandas as pd\n",
    "\n",
    "robot_template = pd.DataFrame.from_records([robot_template_seed])\n",
    "robot_template"
   ]
  },
  {
   "cell_type": "code",
   "execution_count": 131,
   "metadata": {},
   "outputs": [
    {
     "data": {
      "text/html": [
       "<div>\n",
       "<style scoped>\n",
       "    .dataframe tbody tr th:only-of-type {\n",
       "        vertical-align: middle;\n",
       "    }\n",
       "\n",
       "    .dataframe tbody tr th {\n",
       "        vertical-align: top;\n",
       "    }\n",
       "\n",
       "    .dataframe thead th {\n",
       "        text-align: right;\n",
       "    }\n",
       "</style>\n",
       "<table border=\"1\" class=\"dataframe\">\n",
       "  <thead>\n",
       "    <tr style=\"text-align: right;\">\n",
       "      <th></th>\n",
       "      <th>ID</th>\n",
       "      <th>PrefLabel</th>\n",
       "    </tr>\n",
       "  </thead>\n",
       "  <tbody>\n",
       "    <tr>\n",
       "      <th>0</th>\n",
       "      <td>ID</td>\n",
       "      <td>A skos:prefLabel</td>\n",
       "    </tr>\n",
       "    <tr>\n",
       "      <th>1</th>\n",
       "      <td>AllenDend:CS201908210_76</td>\n",
       "      <td></td>\n",
       "    </tr>\n",
       "    <tr>\n",
       "      <th>2</th>\n",
       "      <td>AllenDend:CS201908210_77</td>\n",
       "      <td>Neuronal</td>\n",
       "    </tr>\n",
       "    <tr>\n",
       "      <th>3</th>\n",
       "      <td>AllenDend:CS201908210_78</td>\n",
       "      <td>Inhibitory</td>\n",
       "    </tr>\n",
       "    <tr>\n",
       "      <th>4</th>\n",
       "      <td>AllenDend:CS201908210_79</td>\n",
       "      <td>ADARB2 (CGE)</td>\n",
       "    </tr>\n",
       "    <tr>\n",
       "      <th>...</th>\n",
       "      <td>...</td>\n",
       "      <td>...</td>\n",
       "    </tr>\n",
       "    <tr>\n",
       "      <th>145</th>\n",
       "      <td>AllenDend:CS201908210_71</td>\n",
       "      <td>Astro L1-6 FGFR3 SLC14A1</td>\n",
       "    </tr>\n",
       "    <tr>\n",
       "      <th>146</th>\n",
       "      <td>AllenDend:CS201908210_72</td>\n",
       "      <td>Astro L1-2 FGFR3 GFAP</td>\n",
       "    </tr>\n",
       "    <tr>\n",
       "      <th>147</th>\n",
       "      <td>AllenDend:CS201908210_73</td>\n",
       "      <td>Oligo L1-6 OPALIN</td>\n",
       "    </tr>\n",
       "    <tr>\n",
       "      <th>148</th>\n",
       "      <td>AllenDend:CS201908210_74</td>\n",
       "      <td>Endo L2-6 NOSTRIN</td>\n",
       "    </tr>\n",
       "    <tr>\n",
       "      <th>149</th>\n",
       "      <td>AllenDend:CS201908210_75</td>\n",
       "      <td>Micro L1-6 TYROBP</td>\n",
       "    </tr>\n",
       "  </tbody>\n",
       "</table>\n",
       "<p>150 rows × 2 columns</p>\n",
       "</div>"
      ],
      "text/plain": [
       "                           ID                 PrefLabel\n",
       "0                          ID          A skos:prefLabel\n",
       "1    AllenDend:CS201908210_76                          \n",
       "2    AllenDend:CS201908210_77                  Neuronal\n",
       "3    AllenDend:CS201908210_78                Inhibitory\n",
       "4    AllenDend:CS201908210_79              ADARB2 (CGE)\n",
       "..                        ...                       ...\n",
       "145  AllenDend:CS201908210_71  Astro L1-6 FGFR3 SLC14A1\n",
       "146  AllenDend:CS201908210_72     Astro L1-2 FGFR3 GFAP\n",
       "147  AllenDend:CS201908210_73         Oligo L1-6 OPALIN\n",
       "148  AllenDend:CS201908210_74         Endo L2-6 NOSTRIN\n",
       "149  AllenDend:CS201908210_75         Micro L1-6 TYROBP\n",
       "\n",
       "[150 rows x 2 columns]"
      ]
     },
     "execution_count": 131,
     "metadata": {},
     "output_type": "execute_result"
    }
   ],
   "source": [
    "dl = [robot_template_seed]\n",
    "\n",
    "synonym_properties = ['original_label', \n",
    "                      'cell_set_aligned_alias',\n",
    "                      'cell_set_additional_aliases']\n",
    "for o in out['nodes']:\n",
    "    d = {}\n",
    "    d['ID'] = 'AllenDend:' + o['cell_set_accession']\n",
    "    d['TYPE'] = 'owl:NamedIndividual'\n",
    "    d['Label'] = o['cell_set_label']\n",
    "    d['PrefLabel'] = o['cell_set_preferred_alias']\n",
    "    d['Entity Type'] = 'BDSHELP:Cluster'\n",
    "    d['Synonyms'] = '|'.join([o[prop] for prop in synonym_properties if o[prop]])\n",
    "    d['Property Assertions'] = '|'.join(['AllenDend:' + e[1] for e in out['edges'] if e[0] == o['cell_set_accession']]) # There should only be one!\n",
    "    dl.append(d)\n",
    "\n",
    "robot_template = pd.DataFrame.from_records(dl)\n",
    "#print(robot_template[['ID','PrefLabel']][0:50])\n",
    "#print(robot_template[['ID','PrefLabel']][51:100])\n",
    "#print(robot_template[['ID','PrefLabel']][100:-1])\n",
    "\n",
    "robot_template[['ID','PrefLabel']]\n",
    "    "
   ]
  },
  {
   "cell_type": "code",
   "execution_count": 132,
   "metadata": {},
   "outputs": [],
   "source": [
    "robot_template.to_csv(\"CCN201908210.tsv\", sep=\"\\t\", index=False)"
   ]
  },
  {
   "cell_type": "markdown",
   "metadata": {},
   "source": [
    " - [x] Constuct helper files\n",
    " - [x] Class: cell cluster (we have one in VFB but should be generalised - maybe cell set?)\n",
    " - [x] OP subcluster_of\n",
    " - [x] use add-prefix to add curies\n"
   ]
  },
  {
   "cell_type": "code",
   "execution_count": null,
   "metadata": {},
   "outputs": [],
   "source": [
    "robot_class_template_seed = {\n",
    "                       'ID': 'ID', \n",
    "                       'Label': 'LABEL',\n",
    "                       'PrefLabel': 'A skos:prefLabel',\n",
    "                       'Classification': 'SC %',\n",
    "                       'Synonyms': 'A oboInOwl:has_exact_synonym',\n",
    "                       'part of': \"SC 'part of' some %\"\n",
    "                       'located in': \"SC 'part of' some %\"\n",
    "                       'has soma location': \"SC 'part of' some %\"\n",
    "                       'functions': \"SC 'capable of' some % SPLIT='|'\",\n",
    "                      }\n"
   ]
  }
 ],
 "metadata": {
  "kernelspec": {
   "display_name": "Python 3",
   "language": "python",
   "name": "python3"
  },
  "language_info": {
   "codemirror_mode": {
    "name": "ipython",
    "version": 3
   },
   "file_extension": ".py",
   "mimetype": "text/x-python",
   "name": "python",
   "nbconvert_exporter": "python",
   "pygments_lexer": "ipython3",
   "version": "3.8.5"
  }
 },
 "nbformat": 4,
 "nbformat_minor": 4
}
