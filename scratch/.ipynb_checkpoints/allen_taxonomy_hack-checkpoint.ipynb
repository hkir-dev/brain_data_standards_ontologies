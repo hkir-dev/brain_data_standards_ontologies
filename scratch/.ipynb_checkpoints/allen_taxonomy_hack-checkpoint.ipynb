{
 "cells": [
  {
   "cell_type": "markdown",
   "metadata": {},
   "source": [
    "### Background\n",
    "\n",
    "* AIM Convert dend.json to:\n",
    "   * A set of OWL individuals linked by subClusterOf relationships.\n",
    "   * Links from OWL Individuals to functions (and morphologies?)\n",
    "   * A (more limited) set of OWL Classes whose classificatin is driven by subclustering & links from Individuals to functions/morphologies - see\n",
    "   \n",
    "* Test data in this notebook comes from Allen consensus clustering of MTG cells provided by Jeremy Miller.  Here is a visualisation of the dendrogram:\n",
    "\n",
    "![image](https://user-images.githubusercontent.com/112839/95180282-abf16400-07b9-11eb-9b8d-9f84a7abf757.png)\n"
   ]
  },
  {
   "cell_type": "code",
   "execution_count": 1,
   "metadata": {},
   "outputs": [
    {
     "data": {
      "text/plain": [
       "dict_keys(['node_attributes', 'children'])"
      ]
     },
     "execution_count": 1,
     "metadata": {},
     "output_type": "execute_result"
    }
   ],
   "source": [
    "import json\n",
    "f = open('dend.json', 'r')\n",
    "j = json.loads(f.read())\n",
    "j.keys()\n",
    "\n"
   ]
  },
  {
   "cell_type": "code",
   "execution_count": null,
   "metadata": {},
   "outputs": [],
   "source": []
  },
  {
   "cell_type": "code",
   "execution_count": 2,
   "metadata": {},
   "outputs": [
    {
     "data": {
      "text/plain": [
       "2"
      ]
     },
     "execution_count": 2,
     "metadata": {},
     "output_type": "execute_result"
    }
   ],
   "source": [
    "# Bifurcation of tree at root\n",
    "\n",
    "len(j['children'])"
   ]
  },
  {
   "cell_type": "code",
   "execution_count": 3,
   "metadata": {},
   "outputs": [
    {
     "data": {
      "text/plain": [
       "[{'members': 75,\n",
       "  'midpoint': 57.5288,\n",
       "  'height': 0.9146,\n",
       "  'label': '',\n",
       "  'cell_set_accession': 'CS201908210_76',\n",
       "  'original_label': 'n1',\n",
       "  'cell_set_label': 'All cells',\n",
       "  'cell_set_preferred_alias': '',\n",
       "  'cell_set_aligned_alias': '',\n",
       "  'cell_set_additional_aliases': '',\n",
       "  'cell_set_structure': 'neocortex',\n",
       "  'cell_set_alias_assignee': 'Trygve Bakken||',\n",
       "  'cell_set_alias_citation': '10.1038/s41586-019-1506-7||',\n",
       "  'cell_set_ontology_tag': 'UBERON:0001950',\n",
       "  'taxonomy_id': 'CCN201908210',\n",
       "  '_row': 'n1'}]"
      ]
     },
     "execution_count": 3,
     "metadata": {},
     "output_type": "execute_result"
    }
   ],
   "source": [
    "# Inspect  root node:\n",
    "\n",
    "j['node_attributes']"
   ]
  },
  {
   "cell_type": "code",
   "execution_count": 4,
   "metadata": {},
   "outputs": [],
   "source": [
    "# A simple transformation to a list of nodes and edges for easier processing (Ultimately this should be JSON-LD)\n",
    "\n",
    "import warnings\n",
    "\n",
    "out = {}\n",
    "\n",
    "def tree_recurse(tree, out, parent_node_id = ''):\n",
    "    \"\"\"Convert Allen Taxonomy JSON to a list of nodes and edges, where nodes are\n",
    "    Copies of nodes in Allen JSON & edges are duples - (subject(child), object(parent))\n",
    "    identified by 'cell_set_accession'.\n",
    "    \n",
    "    Args:\n",
    "        - Tree: Allen taxonomy in JSON, or some subtree of it\n",
    "        - Output structure to populate (starting point must be an empty dict)\n",
    "        - parent_node_id: 'cell_set_accession' of parent.  Default (no parent) = root.\n",
    "        \n",
    "    \"\"\"\n",
    "    if not out:\n",
    "        out['nodes']= []\n",
    "        out['edges'] = set()\n",
    "    if 'node_attributes' in tree.keys():\n",
    "        if len(tree['node_attributes']) > 1:\n",
    "            warnings.warn(\"Don't know how to deal with multiple nodes per recurse\")\n",
    "        ID = tree['node_attributes'][0]['cell_set_accession']\n",
    "            \n",
    "        out['nodes'].append(tree['node_attributes'][0])\n",
    "        if parent_node_id:\n",
    "            out['edges'].add((ID, parent_node_id))\n",
    "        if 'children' in tree.keys():\n",
    "            for c in tree['children']:\n",
    "                tree_recurse(c, out, parent_node_id = ID)\n",
    "        else:\n",
    "            warnings.warn(\"non leaf node %s has no children\" % ID)\n",
    "    elif 'leaf_attributes' in tree.keys():\n",
    "        if len(tree['leaf_attributes']) > 1:\n",
    "            warnings.warn(\"Don't know how to deal with multiple nodes per recurse\")       \n",
    "        ID = tree['leaf_attributes'][0]['cell_set_accession']\n",
    "        # Tag leaves\n",
    "        tree['leaf_attributes'][0]['is_leaf'] = True\n",
    "        out['nodes'].append(tree['leaf_attributes'][0])\n",
    "        out['edges'].add((ID, parent_node_id))\n",
    "        if 'children' in tree.keys():\n",
    "            warnings.warn('leaf node %s has children!' % ID)\n",
    "    else:\n",
    "        warnings.warn(\"No recognized nodes\")\n",
    "        \n",
    "tree_recurse(j, out)"
   ]
  },
  {
   "cell_type": "code",
   "execution_count": 5,
   "metadata": {},
   "outputs": [
    {
     "ename": "SyntaxError",
     "evalue": "invalid syntax (<ipython-input-5-0e4f6288093a>, line 1)",
     "output_type": "error",
     "traceback": [
      "\u001b[0;36m  File \u001b[0;32m\"<ipython-input-5-0e4f6288093a>\"\u001b[0;36m, line \u001b[0;32m1\u001b[0m\n\u001b[0;31m    for n in out['nodes']\u001b[0m\n\u001b[0m                         ^\u001b[0m\n\u001b[0;31mSyntaxError\u001b[0m\u001b[0;31m:\u001b[0m invalid syntax\n"
     ]
    }
   ],
   "source": [
    "for n in out['nodes']"
   ]
  },
  {
   "cell_type": "code",
   "execution_count": null,
   "metadata": {},
   "outputs": [],
   "source": [
    "list(out['edges'])[0:10]"
   ]
  },
  {
   "cell_type": "code",
   "execution_count": null,
   "metadata": {},
   "outputs": [],
   "source": [
    " '|'.join([e[1] for e in out['edges'] if e[0] == 'CS201908210_104'])"
   ]
  },
  {
   "cell_type": "code",
   "execution_count": null,
   "metadata": {},
   "outputs": [],
   "source": [
    "# view paths to root (single inheritance assumed):\n",
    "\n",
    "def ascend(node_id, edges, path):\n",
    "    p = [e[1] for e in edges if e[0] == node_id]\n",
    "    if not path:\n",
    "        path.append(node_id)\n",
    "    if p:\n",
    "        path.append(p[0])\n",
    "        ascend(p[0], edges, path)\n",
    "        \n",
    "def id_conv(path, nodes):\n",
    "    out = []\n",
    "    for p in path:\n",
    "        pref_alias = [n['cell_set_preferred_alias'] for n in nodes \n",
    "                      if (n['cell_set_accession'] == p) and n['cell_set_preferred_alias'] ]\n",
    "        if pref_alias:\n",
    "            out.extend(pref_alias)\n",
    "        else:\n",
    "            out.append(p)\n",
    "    return out\n",
    "\n",
    "for n in out['nodes']:\n",
    "    if 'is_leaf' in n.keys() and n['is_leaf']:\n",
    "        path_to_root = []\n",
    "        ascend(node_id = n['cell_set_accession'], edges=out['edges'], path=path_to_root)\n",
    "        print(id_conv(path_to_root, out['nodes']))\n",
    "        \n",
    "\n"
   ]
  },
  {
   "cell_type": "code",
   "execution_count": null,
   "metadata": {},
   "outputs": [],
   "source": [
    "## Check for unique attribute values\n",
    "\n",
    "def unique_attribute_test(nodes):\n",
    "    # Assuming root node has all keys\n",
    "    for attr in nodes[0].keys():\n",
    "        a = {n[attr] for n in out['nodes'] if attr in n.keys()}\n",
    "        if len(nodes) == len(a):\n",
    "            print(\"%s, e.g. '%s' is a unique attribute\" % (attr, nodes[1][attr]))\n",
    "            \n",
    "unique_attribute_test(out['nodes'])"
   ]
  },
  {
   "cell_type": "code",
   "execution_count": null,
   "metadata": {},
   "outputs": [],
   "source": [
    "# Lets go with cell_set_label as rdfs_label for now.  It may be worth inventing some APs for the others...\n",
    "\n",
    "# Alternative: \n",
    "   # Everything with a cell_set_preferred_alias gets the name \"$cell_set_preferred_alias - $taxonomy_id. \n",
    "   # We make also classes for these\n",
    "   # The rest we name \"$cell_set_label - $taxonomy_id\"\n",
    "   # other identifiers go in synonyms (at least for now)"
   ]
  },
  {
   "cell_type": "code",
   "execution_count": null,
   "metadata": {},
   "outputs": [],
   "source": [
    "robot_template_seed = { 'ID': 'ID', \n",
    "                       'Label': 'LABEL',\n",
    "                       'PrefLabel': 'A skos:prefLabel',\n",
    "                       'Entity Type': 'TI %',\n",
    "                       'TYPE': 'TYPE',\n",
    "                       'Property Assertions': \"I BDSHELP:subcluster_of SPLIT='|'\",\n",
    "                       'Synonyms': 'A oboInOwl:has_exact_synonym',\n",
    "                       'Function': 'TI capable_of some %'\n",
    "                      }\n",
    "\n"
   ]
  },
  {
   "cell_type": "code",
   "execution_count": null,
   "metadata": {},
   "outputs": [],
   "source": [
    "import pandas as pd\n",
    "\n",
    "robot_template = pd.DataFrame.from_records([robot_template_seed])\n",
    "robot_template"
   ]
  },
  {
   "cell_type": "code",
   "execution_count": null,
   "metadata": {},
   "outputs": [],
   "source": [
    "dl = [robot_template_seed]\n",
    "\n",
    "synonym_properties = ['original_label', \n",
    "                      'cell_set_aligned_alias',\n",
    "                      'cell_set_additional_aliases']\n",
    "for o in out['nodes']:\n",
    "    d = {}\n",
    "    d['ID'] = 'AllenDend:' + o['cell_set_accession']\n",
    "    d['TYPE'] = 'owl:NamedIndividual'\n",
    "    d['Label'] = o['cell_set_label'] + ' - ' + o['cell_set_accession']\n",
    "    d['PrefLabel'] = o['cell_set_preferred_alias'] + ' - ' + o['cell_set_accession']\n",
    "    d['Entity Type'] = 'BDSHELP:Cluster'\n",
    "    d['Synonyms'] = '|'.join([o[prop] for prop in synonym_properties if o[prop]])\n",
    "    d['Property Assertions'] = '|'.join(['AllenDend:' + e[1] for e in out['edges'] if e[0] == o['cell_set_accession']])\n",
    "    # There should only be one!\n",
    "    dl.append(d)\n",
    "\n",
    "robot_template = pd.DataFrame.from_records(dl)\n",
    "#print(robot_template[['ID','PrefLabel']][0:50])\n",
    "#print(robot_template[['ID','PrefLabel']][51:100])\n",
    "#print(robot_template[['ID','PrefLabel']][100:-1])\n",
    "\n",
    "robot_template[['ID','PrefLabel']]\n",
    "    "
   ]
  },
  {
   "cell_type": "code",
   "execution_count": null,
   "metadata": {},
   "outputs": [],
   "source": [
    "robot_template.to_csv(\"CCN201908210.tsv\", sep=\"\\t\", index=False)"
   ]
  },
  {
   "cell_type": "markdown",
   "metadata": {},
   "source": [
    " - [x] Constuct helper files\n",
    " - [x] Class: cell cluster (we have one in VFB but should be generalised - maybe cell set?)\n",
    " - [x] OP subcluster_of\n",
    " - [x] use add-prefix to add curies\n"
   ]
  },
  {
   "cell_type": "code",
   "execution_count": 8,
   "metadata": {},
   "outputs": [
    {
     "data": {
      "text/plain": [
       "'http://brain_data_standards/scratch_cc98e770-12c0-11eb-8055-acde48001122'"
      ]
     },
     "execution_count": 8,
     "metadata": {},
     "output_type": "execute_result"
    }
   ],
   "source": [
    "import uuid\n",
    "'http://brain_data_standards/scratch_' + str(uuid.uuid1())\n"
   ]
  },
  {
   "cell_type": "code",
   "execution_count": 17,
   "metadata": {},
   "outputs": [],
   "source": [
    "import pandas as pd\n",
    "robot_equivalent_class_template_seed = {\n",
    "                       'ID': 'ID', \n",
    "                       'Exemplar': 'EC BDSHELP:has_exemplar value %',\n",
    "                       'Class_type': 'CLASS_TYPE'\n",
    "                       #'part of': \"SC 'part of' some %\"\n",
    "                       #'located in': \"SC 'part of' some %\"\n",
    "                       #'has soma location': \"SC 'part of' some %\"\n",
    "                      }\n",
    "\n",
    "robot_class_curation_seed = {'ID': 'ID',\n",
    "                             'Label': 'LABEL',\n",
    "                             'PrefLabel': 'A skos:prefLabel',\n",
    "                             'Synonyms': 'A oboInOwl:has_exact_synonym',\n",
    "                             'Exemplar': \"EC CL:0000003 and 'has_exemplar' value %\",\n",
    "                             'Classification': 'SC %',\n",
    "                             'Comment': 'A rdfs:comment',\n",
    "                             'part of': \"SC 'part of' some %\",\n",
    "                             'part evidence comment': '>A rdfs:comment',\n",
    "                             'part evidence pub': \">A dc:reference SPLIT='|'\",  # Bundle this with dbxrefs?\n",
    "                             'part evidence dbxref': \">A oio:hasDbXref SPLIT='|'\",                  \n",
    "                             'location': \"SC 'located in' some %\",\n",
    "                             'location evidence comment': '>A rdfs:comment',\n",
    "                             'location evidence pub': \">A dc:reference SPLIT='|'\",  # Bundle this with dbxrefs?\n",
    "                             'location evidence dbxref': \">A oio:hasDbXref SPLIT='|'\",  \n",
    "                             'has soma location': \"SC 'has soma location' some %\",\n",
    "                             'soma location evidence comment': '>A rdfs:comment',\n",
    "                             'soma location evidence pub': \">A dc:reference SPLIT='|'\",  # Bundle this with dbxrefs?\n",
    "                             'soma location evidence dbxref': \">A oio:dbxref SPLIT='|'\",\n",
    "                             'cell morphology phenotype': \"SC 'bearer of' some %\",\n",
    "                             'soma location evidence comment': '>A rdfs:comment',\n",
    "                             'soma location evidence pub': \">A dc:reference SPLIT='|'\",  # Bundle this with dbxrefs?\n",
    "                             'soma location evidence dbxref': \">A oio:hasDbXref SPLIT='|'\"\n",
    "                            }\n",
    "\n",
    "\n",
    "ec_template = [robot_equivalent_class_template_seed]\n",
    "class_template = [robot_class_curation_seed] \n",
    "\n",
    "# not bothering with stable IDs for now:\n",
    "\n",
    "for o in out['nodes']: \n",
    "    ID = 'http://brain_data_standards/scratch_' + str(uuid.uuid1())\n",
    "    d={}\n",
    "    d['ID']=ID\n",
    "    d['Class_type']: 'subclass'\n",
    "    d['Exemplar']= 'AllenDend:' + o['cell_set_accession']\n",
    "    if o['cell_set_label']:\n",
    "        d['Label'] = o['cell_set_label']\n",
    "    if o['cell_set_preferred_alias']:\n",
    "        d['PrefLabel'] = o['cell_set_preferred_alias']\n",
    "    for k in robot_class_curation_seed.keys():\n",
    "        if not(k in d.keys()):\n",
    "            d[k] = ''\n",
    "    class_template.append(d)\n",
    "    \n",
    "\n",
    "ec_robot_template = pd.DataFrame.from_records(ec_template)\n",
    "class_robot_template = pd.DataFrame.from_records(class_template)\n",
    "\n",
    "\n",
    "#ec_robot_template.to_csv(\"CCN201908210_EC.tsv\", sep=\"\\t\", index=False)\n",
    "class_robot_template.to_csv(\"CCN201908210_class_curated.tsv\", sep=\"\\t\", index=False)"
   ]
  },
  {
   "cell_type": "code",
   "execution_count": null,
   "metadata": {},
   "outputs": [],
   "source": []
  }
 ],
 "metadata": {
  "kernelspec": {
   "display_name": "Python 3",
   "language": "python",
   "name": "python3"
  },
  "language_info": {
   "codemirror_mode": {
    "name": "ipython",
    "version": 3
   },
   "file_extension": ".py",
   "mimetype": "text/x-python",
   "name": "python",
   "nbconvert_exporter": "python",
   "pygments_lexer": "ipython3",
   "version": "3.8.5"
  }
 },
 "nbformat": 4,
 "nbformat_minor": 4
}
